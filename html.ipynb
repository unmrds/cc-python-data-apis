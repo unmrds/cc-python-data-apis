{
 "cells": [
  {
   "cell_type": "markdown",
   "metadata": {},
   "source": [
    "# Reading data from an HTML web page\n",
    "\n",
    "The goal of this notebook session is to read a data file that is displayed as an HTML table on a website. \n",
    "\n",
    "The data we will use in this session is from a non-active research site of the *Long Term Ecological Research Network*, called *North Inlet LTER*. The data consist of daily water samples from from 1978 to 1992. This data is available from the *Environmental Data Initiative* (EDI) [data repository](https://portal.edirepository.org/nis) under the repository identifier [knb-lter-nin.1.1](https://portal.edirepository.org/nis/mapbrowse?scope=knb-lter-nin&identifier=1)."
   ]
  },
  {
   "cell_type": "code",
   "execution_count": 1,
   "metadata": {},
   "outputs": [
    {
     "name": "stdout",
     "output_type": "stream",
     "text": [
      "Requirement already satisfied: lxml in /home/servilla/anaconda3/envs/unm/lib/python3.6/site-packages (4.2.1)\n",
      "Requirement already satisfied: beautifulsoup4 in /home/servilla/anaconda3/envs/unm/lib/python3.6/site-packages (4.6.0)\n"
     ]
    }
   ],
   "source": [
    "!pip install lxml\n",
    "!pip install beautifulsoup4"
   ]
  },
  {
   "cell_type": "code",
   "execution_count": 3,
   "metadata": {},
   "outputs": [],
   "source": [
    "from bs4 import BeautifulSoup"
   ]
  },
  {
   "cell_type": "code",
   "execution_count": 4,
   "metadata": {},
   "outputs": [],
   "source": [
    "with open('./data.html', 'r') as f:\n",
    "    soup = BeautifulSoup(f, 'lxml')"
   ]
  },
  {
   "cell_type": "code",
   "execution_count": 5,
   "metadata": {},
   "outputs": [],
   "source": [
    "html_table = soup.find('table')\n",
    "table_rows = html_table('tr')\n",
    "\n",
    "table = []\n",
    "for table_row in table_rows[1:]:\n",
    "    row = []\n",
    "    row_data = table_row('td')\n",
    "    for data_token in row_data:\n",
    "        row.append(data_token.text)\n",
    "    table.append(row)"
   ]
  },
  {
   "cell_type": "code",
   "execution_count": 6,
   "metadata": {},
   "outputs": [
    {
     "name": "stdout",
     "output_type": "stream",
     "text": [
      "['9/1/1978', 'TC', '-9.9', '-9.9', '-99.9', '-99.9', '-9.9', '-9.9', '-9.999', '-9.9', '-9.99', '-999', '2', '-9.9', '-9.9']\n",
      "['9/2/1978', 'TC', '-9.9', '-9.9', '-99.9', '-99.9', '-9.9', '-9.9', '-9.999', '-9.9', '-9.99', '-999', '2', '-9.9', '-9.9']\n",
      "['9/3/1978', 'TC', '-9.9', '-9.9', '-99.9', '-99.9', '-9.9', '-9.9', '-9.999', '-9.9', '-9.99', '-999', '1', '-9.9', '-9.9']\n",
      "['9/4/1978', 'TC', '-9.9', '-9.9', '-99.9', '-99.9', '-9.9', '-9.9', '-9.999', '-9.9', '-9.99', '-999', '1', '-9.9', '-9.9']\n",
      "['9/5/1978', 'TC', '-9.9', '-9.9', '-99.9', '-99.9', '-9.9', '-9.9', '-9.999', '-9.9', '-9.99', '-999', '1', '-9.9', '-9.9']\n",
      "['9/6/1978', 'TC', '-9.9', '-9.9', '-99.9', '-99.9', '-9.9', '-9.9', '-9.999', '-9.9', '-9.99', '-999', '2', '-9.9', '-9.9']\n",
      "['9/7/1978', 'TC', '-9.9', '-9.9', '-99.9', '-99.9', '-9.9', '-9.9', '-9.999', '-9.9', '-9.99', '-999', '2', '-9.9', '-9.9']\n",
      "['9/8/1978', 'TC', '-9.9', '-9.9', '-99.9', '-99.9', '-9.9', '-9.9', '-9.999', '-9.9', '-9.99', '-999', '6', '-9.9', '-9.9']\n",
      "['9/9/1978', 'TC', '-9.9', '-9.9', '-99.9', '-99.9', '-9.9', '-9.9', '-9.999', '-9.9', '-9.99', '-999', '6', '-9.9', '-9.9']\n"
     ]
    }
   ],
   "source": [
    "for head in table[:9]:\n",
    "    print(head)"
   ]
  }
 ],
 "metadata": {
  "kernelspec": {
   "display_name": "unm",
   "language": "python",
   "name": "unm"
  },
  "language_info": {
   "codemirror_mode": {
    "name": "ipython",
    "version": 3
   },
   "file_extension": ".py",
   "mimetype": "text/x-python",
   "name": "python",
   "nbconvert_exporter": "python",
   "pygments_lexer": "ipython3",
   "version": "3.6.5"
  }
 },
 "nbformat": 4,
 "nbformat_minor": 2
}
