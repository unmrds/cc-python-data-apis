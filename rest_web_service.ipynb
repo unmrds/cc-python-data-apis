{
 "cells": [
  {
   "cell_type": "markdown",
   "metadata": {},
   "source": [
    "# Reading data from a REST web service API\n",
    "\n",
    "The goal of this notebook session is to read a \"comma separated value\" data file from a REST web service API of a data repository and load it into a usable Python data structure that can be used for further analysis. In this section, we will explore Python tools to read a REST web service end point and download data directly into a Python data structure.\n",
    "\n",
    "`REST` (*Re*spresentational *S*tate *T*ransfer) relies on the existing HTTP verbs (e.g., `POST`, `GET`, `PUT`, and `DELETE`) and request-response patterns to effectively support the actions of a standard application programmable interface (API) for creating a software excution environment of an Internet client/server model. The most common REST action for a web client is to *read* a web-based resource (a data file, for example) from a web server using the HTTP `GET` request method. The four verbs listed above provide the core web-services for *Create*, *Read*, *Update*, and *Delete* methods of REST-based applications. The benefit of REST web services is that the web-client and web-server execution stack can be implemented using completely different software environemnts and different operating systems.\n",
    "\n",
    "<img src='./web-service.png'/>\n",
    "\n",
    "The data file we will use in this session is from a non-active research site of the *Long Term Ecological Research Network*, called *North Inlet LTER*. The data consist of daily water samples from from 1978 to 1992. This data is available from the *Environmental Data Initiative* (EDI) [data repository](https://portal.edirepository.org/nis) under the repository identifier [knb-lter-nin.1.1](https://portal.edirepository.org/nis/mapbrowse?scope=knb-lter-nin&identifier=1).\n",
    "\n",
    "The EDI data repository software, called *PASTA*, provides a full web-service API that allows data producers to upload data packages to the repository using HTTP `POST` and `PUT` verbs, as well as data package reading services using the HTTP `GET` verb for data consumers. We will use the Python `requests` package to access the data file of data package knb-lter-nin.1.1 and load it into a Python data structure. The PASTA API method that we will use is called [*Read Data Entity*](https://pasta.lternet.edu/package/docs/api#GET%20:%20/data/eml/{scope}/{identifier}/{revision}/{entityId}).\n",
    "\n",
    "#### References\n",
    "1. Environmental Data Initiative [data portal](https://portal.edirepository.org/nis)\n",
    "1. PASTA+ web service API at [read the docs](http://pastaplus-core.readthedocs.io/en/latest/index.html)\n",
    "1. Python [requests](http://docs.python-requests.org/en/master/)"
   ]
  },
  {
   "cell_type": "markdown",
   "metadata": {},
   "source": [
    "### Install Python `requests` using `pip` from BASH."
   ]
  },
  {
   "cell_type": "code",
   "execution_count": 6,
   "metadata": {},
   "outputs": [
    {
     "name": "stdout",
     "output_type": "stream",
     "text": [
      "Requirement already satisfied: requests in /home/servilla/anaconda3/envs/unm/lib/python3.6/site-packages (2.18.4)\n",
      "Requirement already satisfied: certifi>=2017.4.17 in /home/servilla/anaconda3/envs/unm/lib/python3.6/site-packages (from requests) (2018.4.16)\n",
      "Requirement already satisfied: chardet<3.1.0,>=3.0.2 in /home/servilla/anaconda3/envs/unm/lib/python3.6/site-packages (from requests) (3.0.4)\n",
      "Requirement already satisfied: urllib3<1.23,>=1.21.1 in /home/servilla/anaconda3/envs/unm/lib/python3.6/site-packages (from requests) (1.22)\n",
      "Requirement already satisfied: idna<2.7,>=2.5 in /home/servilla/anaconda3/envs/unm/lib/python3.6/site-packages (from requests) (2.6)\n"
     ]
    }
   ],
   "source": [
    "!pip install requests"
   ]
  },
  {
   "cell_type": "markdown",
   "metadata": {},
   "source": [
    "### Download our data file `LTER.NIN.DWS.csv` from the PASTA data repository using the Python `requests` package."
   ]
  },
  {
   "cell_type": "code",
   "execution_count": 2,
   "metadata": {},
   "outputs": [],
   "source": [
    "import requests"
   ]
  },
  {
   "cell_type": "code",
   "execution_count": 3,
   "metadata": {},
   "outputs": [],
   "source": [
    "url = 'https://pasta.lternet.edu/package/data/eml/knb-lter-nin/1/1/DailyWaterSample-NIN-LTER-1978-1992'\n",
    "r = requests.get(url)"
   ]
  },
  {
   "cell_type": "code",
   "execution_count": 4,
   "metadata": {},
   "outputs": [
    {
     "name": "stdout",
     "output_type": "stream",
     "text": [
      "200: OK\n"
     ]
    }
   ],
   "source": [
    "print('{code}: {msg}'.format(code=r.status_code, msg=r.reason))"
   ]
  },
  {
   "cell_type": "code",
   "execution_count": 5,
   "metadata": {},
   "outputs": [
    {
     "name": "stdout",
     "output_type": "stream",
     "text": [
      "Server: Apache-Coyote/1.1\n",
      "Content-Disposition: attachment; filename=LTER.NIN.DWS.csv\n",
      "Web-Service: DataPackageManager-1.0\n",
      "Content-Type: text/csv\n",
      "Date: Wed, 02 May 2018 19:02:19 GMT\n",
      "Content-Length: 924291\n"
     ]
    }
   ],
   "source": [
    "for header in r.headers:\n",
    "    print('{header}: {value}'.format(header=header, value=r.headers[header]))"
   ]
  },
  {
   "cell_type": "code",
   "execution_count": 6,
   "metadata": {},
   "outputs": [
    {
     "data": {
      "text/plain": [
       "'Date,transect,water_temp,SAL,TNW,TNF,TPW,TPF,POP,NHN,NNN,CHEM,TOC,DOC,POC\\r\\n9/1/1978,TC,-9.9,-9.9,-99.9,-99.9,-9.9,-9.9,-9.999,-9.9,-9.99,-999,2,-9.9,-9.9\\r\\n9/2/1978,TC,-9.9,-9.9,-99.9,-99.9,-9.9,-9.9,-9.999,-9.9,-9.99,-999,2,-9.9,-9.9\\r\\n9/3/1978,TC,-9.9,-9.9'"
      ]
     },
     "execution_count": 6,
     "metadata": {},
     "output_type": "execute_result"
    }
   ],
   "source": [
    "r.text[:256]"
   ]
  },
  {
   "cell_type": "code",
   "execution_count": 7,
   "metadata": {},
   "outputs": [],
   "source": [
    "tbl = [ _.split(',') for _ in r.text.strip().split('\\r\\n')]"
   ]
  },
  {
   "cell_type": "code",
   "execution_count": 8,
   "metadata": {},
   "outputs": [
    {
     "data": {
      "text/plain": [
       "13177"
      ]
     },
     "execution_count": 8,
     "metadata": {},
     "output_type": "execute_result"
    }
   ],
   "source": [
    "len(tbl)"
   ]
  },
  {
   "cell_type": "code",
   "execution_count": 9,
   "metadata": {},
   "outputs": [
    {
     "name": "stdout",
     "output_type": "stream",
     "text": [
      "['Date', 'transect', 'water_temp', 'SAL', 'TNW', 'TNF', 'TPW', 'TPF', 'POP', 'NHN', 'NNN', 'CHEM', 'TOC', 'DOC', 'POC']\n"
     ]
    }
   ],
   "source": [
    "header = tbl[0] # Set header from original table\n",
    "print(header)"
   ]
  },
  {
   "cell_type": "code",
   "execution_count": 10,
   "metadata": {},
   "outputs": [
    {
     "data": {
      "text/plain": [
       "13176"
      ]
     },
     "execution_count": 10,
     "metadata": {},
     "output_type": "execute_result"
    }
   ],
   "source": [
    "tbl = tbl[1:] # Remove header; extract only string values that represent the real table data\n",
    "len(tbl)"
   ]
  },
  {
   "cell_type": "code",
   "execution_count": 11,
   "metadata": {},
   "outputs": [],
   "source": [
    "# Populate data frame with coerced (converted) values from data table in column-major order\n",
    "\n",
    "from datetime import datetime\n",
    "\n",
    "df = [[], [], [], [], [], [], [], [], [], [], [], [], [], [], []]\n",
    "for line in tbl:\n",
    "    date = datetime.strptime(line[0], '%m/%d/%Y')\n",
    "    df[0].append(date)              # Date as datetime\n",
    "    df[1].append(line[1])           # transect as unicode string\n",
    "    df[2].append(float(line[2]))    # water_temp as float\n",
    "    df[3].append(float(line[3]))    # SAL as float\n",
    "    df[4].append(float(line[4]))    # TNW as float\n",
    "    df[5].append(float(line[5]))    # TNF as float\n",
    "    df[6].append(float(line[6]))    # TPW as float\n",
    "    df[7].append(float(line[7]))    # TPF as float\n",
    "    df[8].append(float(line[8]))    # POP as float\n",
    "    df[9].append(float(line[9]))    # NHN as float\n",
    "    df[10].append(float(line[10]))  # NNN as float\n",
    "    df[11].append(int(line[11]))    # CHEM as integer\n",
    "    df[12].append(float(line[12]))  # TOC as float\n",
    "    df[13].append(float(line[13]))  # DOC as float\n",
    "    df[14].append(float(line[14]))  # POC as float"
   ]
  },
  {
   "cell_type": "code",
   "execution_count": 13,
   "metadata": {},
   "outputs": [
    {
     "data": {
      "image/png": "[encoded data removed]",
      "text/plain": [
       "<Figure size 720x576 with 1 Axes>"
      ]
     },
     "metadata": {},
     "output_type": "display_data"
    }
   ],
   "source": [
    "# Access the \"Date\" and \"water_temp\" columns and plot the data\n",
    "\n",
    "import matplotlib\n",
    "import matplotlib.pyplot as plt\n",
    "\n",
    "date = df[0]\n",
    "water_temp = df[2]\n",
    "    \n",
    "fig, ax = plt.subplots()\n",
    "ax.plot(date, water_temp, label='Water Temp')\n",
    "ax.grid(True)\n",
    "fig.autofmt_xdate()\n",
    "fig.set_size_inches(10, 8)\n",
    "plt.legend()\n",
    "plt.show()"
   ]
  },
  {
   "cell_type": "code",
   "execution_count": null,
   "metadata": {},
   "outputs": [],
   "source": []
  }
 ],
 "metadata": {
  "kernelspec": {
   "display_name": "unm",
   "language": "python",
   "name": "unm"
  },
  "language_info": {
   "codemirror_mode": {
    "name": "ipython",
    "version": 3
   },
   "file_extension": ".py",
   "mimetype": "text/x-python",
   "name": "python",
   "nbconvert_exporter": "python",
   "pygments_lexer": "ipython3",
   "version": "3.6.5"
  }
 },
 "nbformat": 4,
 "nbformat_minor": 2
}
