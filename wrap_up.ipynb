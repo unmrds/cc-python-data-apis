{
 "cells": [
  {
   "cell_type": "markdown",
   "metadata": {},
   "source": [
    "# 4. Cleaning, visualizing, and saving data\n",
    "\n",
    "The goal of this notebook session is to clean \"missing data\" values from the data table, visualize the cleaned data, and then save the fully cleaned table to the computer desktop. This is only one of many scenarios of working with scientific data.\n",
    "\n",
    "\"Missing data\" (a data point that was not recorded or was recorded in error at a specific date or time) is often represented in a data table with a known replacement value of the same type (e.g., integer, float, ...). The value itself is generally a quantity that indicates that the data point is not fit for use. For example, if we were to measure air temperature, a value of `-999.9 ℃` is theoretically impossible to occur in a natural setting, so its presence as a data point would indiciate the absence of a true measurement. Unfortunately, when plotting such data, graphs are usually missleading or simply look \"funny\". There is no correct way of dealing with such data, and how you address it depends on its frequency. Is some cases, you may be able to interpolate (use two points on either side of the erroneous data point to create an average value). In our case, however, there are just too many missing data values to produce a usable interpolation so we must simply remove them from our data table.\n",
    "\n",
    "The data we will use in this session is from a non-active research site of the *Long Term Ecological Research Network*, called *North Inlet LTER*. The data consist of daily water samples from from 1978 to 1992. This data is available from the *Environmental Data Initiative* (EDI) [data repository](https://portal.edirepository.org/nis) under the repository identifier [knb-lter-nin.1.1](https://portal.edirepository.org/nis/mapbrowse?scope=knb-lter-nin&identifier=1).\n",
    "\n",
    "#### References\n",
    "\n",
    " 1. Python `str.join()`\n",
    "     1. [Python 3 reference](https://docs.python.org/3/library/stdtypes.html#string-methods)\n",
    "     1. [Example](https://www.geeksforgeeks.org/join-function-python/)"
   ]
  },
  {
   "cell_type": "markdown",
   "metadata": {},
   "source": [
    "### Read the data table file `LTER.NIN.DWS.csv`and load into a multi-dimensional Python `list` data structure using column major order."
   ]
  },
  {
   "cell_type": "code",
   "execution_count": null,
   "metadata": {},
   "outputs": [],
   "source": [
    "with open('./LTER.NIN.DWS.csv', 'r') as f: # Open text file for reading\n",
    "    table = [_.strip().split(',') for _ in f.readlines()] # <-- list comprehension"
   ]
  },
  {
   "cell_type": "code",
   "execution_count": null,
   "metadata": {},
   "outputs": [],
   "source": [
    "header = table[0] # Set header from original table\n",
    "table = table[1:] # Remove header; extract only string values that represent the real table data"
   ]
  },
  {
   "cell_type": "code",
   "execution_count": null,
   "metadata": {},
   "outputs": [],
   "source": [
    "# Populate data frame with coerced (converted) values from data table in column-major order\n",
    "\n",
    "from datetime import datetime\n",
    "\n",
    "df = {\n",
    "    'Date': [],        # datetime object\n",
    "    'transect': [],    # unicode string\n",
    "    'water_temp': [],  # float\n",
    "    'SAL': [],         # float\n",
    "    'TNW': [],         # float\n",
    "    'TNF': [],         # float\n",
    "    'TPW': [],         # float\n",
    "    'TPF': [],         # float\n",
    "    'POP': [],         # float\n",
    "    'NHN': [],         # float\n",
    "    'NNN': [],         # float\n",
    "    'CHEM': [],        # int\n",
    "    'TOC': [],         # float\n",
    "    'DOC': [],         # float\n",
    "    'POC': []          # float\n",
    "}\n",
    "\n",
    "for row in table:\n",
    "    date = datetime.strptime(row[0], '%m/%d/%Y')\n",
    "    df['Date'].append(date)                # Date as datetime\n",
    "    df['transect'].append(row[1])          # transect as unicode string\n",
    "    df['water_temp'].append(float(row[2])) # water_temp as float\n",
    "    df['SAL'].append(float(row[3]))        # SAL as float\n",
    "    df['TNW'].append(float(row[4]))        # TNW as float\n",
    "    df['TNF'].append(float(row[5]))        # TNF as float\n",
    "    df['TPW'].append(float(row[6]))        # TPW as float\n",
    "    df['TPF'].append(float(row[7]))        # TPF as float\n",
    "    df['POP'].append(float(row[8]))        # POP as float\n",
    "    df['NHN'].append(float(row[9]))        # NHN as float\n",
    "    df['NNN'].append(float(row[10]))       # NNN as float\n",
    "    df['CHEM'].append(int(row[11]))        # CHEM as integer\n",
    "    df['DOC'].append(float(row[12]))       # TOC as float\n",
    "    df['TOC'].append(float(row[13]))       # DOC as float\n",
    "    df['POC'].append(float(row[14]))       # POC as float"
   ]
  },
  {
   "cell_type": "markdown",
   "metadata": {},
   "source": [
    "### Plot \"dirty\" time series data for water temperature"
   ]
  },
  {
   "cell_type": "code",
   "execution_count": null,
   "metadata": {
    "scrolled": true
   },
   "outputs": [],
   "source": [
    "# Access the \"Date\" and \"water_temp\" columns and plot the data\n",
    "\n",
    "import matplotlib\n",
    "import matplotlib.pyplot as plt\n",
    "\n",
    "date = df['Date']\n",
    "water_temp = df['water_temp']\n",
    "    \n",
    "fig, ax = plt.subplots()\n",
    "ax.plot(date, water_temp, label='Water Temp')\n",
    "ax.grid(True)\n",
    "fig.autofmt_xdate()\n",
    "fig.set_size_inches(10, 8)\n",
    "plt.legend()\n",
    "plt.show()"
   ]
  },
  {
   "cell_type": "markdown",
   "metadata": {},
   "source": [
    "### Plot \"cleaned\" time series data for water temperature."
   ]
  },
  {
   "cell_type": "code",
   "execution_count": null,
   "metadata": {},
   "outputs": [],
   "source": [
    "# Filter for data from transect \"TC\" and missing value data (-9.9) from water temperature\n",
    "\n",
    "import matplotlib\n",
    "import matplotlib.pyplot as plt\n",
    "\n",
    "\n",
    "date_water_temp = []\n",
    "water_temp = []\n",
    "for i in range(len(df['water_temp'])):\n",
    "    if df['transect'][i] == 'TC' and df['water_temp'][i] != -9.9:\n",
    "        date_water_temp.append(df['Date'][i])\n",
    "        water_temp.append(df['water_temp'][i])\n",
    "\n",
    "\n",
    "fig, ax = plt.subplots()        \n",
    "ax.plot(date_water_temp, water_temp, label='Water Temp')\n",
    "ax.grid(True)\n",
    "fig.autofmt_xdate()\n",
    "fig.set_size_inches(10, 8)\n",
    "plt.legend()\n",
    "plt.show()"
   ]
  },
  {
   "cell_type": "markdown",
   "metadata": {},
   "source": [
    "### Plot \"cleaned\" time series data for water temperature and salinity."
   ]
  },
  {
   "cell_type": "code",
   "execution_count": null,
   "metadata": {},
   "outputs": [],
   "source": [
    "# Filter for data from transect \"TC\" and missing value data (-9.9) from water temperature and salinity\n",
    "\n",
    "import matplotlib\n",
    "import matplotlib.pyplot as plt\n",
    "\n",
    "\n",
    "date_water_temp = []\n",
    "water_temp = []\n",
    "for i in range(len(df['water_temp'])):\n",
    "    if df['transect'][i] == 'TC' and df['water_temp'][i] != -9.9:\n",
    "        date_water_temp.append(df['Date'][i])\n",
    "        water_temp.append(df['water_temp'][i])\n",
    "\n",
    "date_SAL = []\n",
    "SAL = []\n",
    "for i in range(len(df['SAL'])):\n",
    "    if df['transect'][i] == 'TC' and df['SAL'][i] != -9.9:\n",
    "        date_SAL.append(df['Date'][i])\n",
    "        SAL.append(df['SAL'][i])\n",
    "\n",
    "fig, ax = plt.subplots()\n",
    "color = 'tab:blue'\n",
    "ax.set_ylabel('Water Temp (Celsius)', color=color)\n",
    "ax.plot(date_water_temp, water_temp, label='Water Temp', color=color)\n",
    "ax.grid(True)\n",
    "\n",
    "axR = ax.twinx() # Create second right-hand Y-axis for salinity\n",
    "\n",
    "color = 'tab:orange'\n",
    "axR.set_ylabel('Salinity (PPT)', color=color)\n",
    "axR.plot(date_SAL, SAL, label='Salinity', color=color)\n",
    "axR.grid(True)\n",
    "\n",
    "fig.autofmt_xdate()\n",
    "fig.set_size_inches(10, 8)\n",
    "plt.show()"
   ]
  },
  {
   "cell_type": "markdown",
   "metadata": {},
   "source": [
    "### Plot \"cleaned\" X-Y (scatter) data for water temperature and salinity."
   ]
  },
  {
   "cell_type": "code",
   "execution_count": null,
   "metadata": {},
   "outputs": [],
   "source": [
    "import matplotlib\n",
    "import matplotlib.pyplot as plt\n",
    "\n",
    "fig, ax = plt.subplots()\n",
    "\n",
    "water_temp = []\n",
    "SAL = []\n",
    "for i in range(len(df['water_temp'])):\n",
    "    if df['transect'][i] == 'TC' and df['water_temp'][i] != -9.9 and df['SAL'][i] != -9.9:\n",
    "        water_temp.append(df['water_temp'][i])\n",
    "        SAL.append(df['SAL'][i])\n",
    "\n",
    "fig.autofmt_xdate()\n",
    "fig.set_size_inches(10, 8)\n",
    "plt.scatter(water_temp, SAL)\n",
    "plt.xlabel('Water Temp (Celsius)')\n",
    "plt.ylabel('Salinity (PPT)')\n",
    "plt.show()"
   ]
  },
  {
   "cell_type": "markdown",
   "metadata": {},
   "source": [
    "### Remove all data rows containing \"any\" missing data value."
   ]
  },
  {
   "cell_type": "code",
   "execution_count": null,
   "metadata": {},
   "outputs": [],
   "source": [
    "# Define a second empty data frame data structure as a Python dictionary (for cleaned table)\n",
    "\n",
    "new_df = {\n",
    "    'Date': [],        # datetime object\n",
    "    'transect': [],    # unicode string\n",
    "    'water_temp': [],  # float\n",
    "    'SAL': [],         # float\n",
    "    'TNW': [],         # float\n",
    "    'TNF': [],         # float\n",
    "    'TPW': [],         # float\n",
    "    'TPF': [],         # float\n",
    "    'POP': [],         # float\n",
    "    'NHN': [],         # float\n",
    "    'NNN': [],         # float\n",
    "    'CHEM': [],        # int\n",
    "    'TOC': [],         # float\n",
    "    'DOC': [],         # float\n",
    "    'POC': []          # float\n",
    "}\n",
    "\n",
    "for i in range(len(df['Date'])):\n",
    "    if df['water_temp'][i] != -9.9 and \\\n",
    "       df['SAL'][i] != -9.9 and \\\n",
    "       df['TNW'][i] != -99.9 and \\\n",
    "       df['TNF'][i] != -99.9 and \\\n",
    "       df['TPW'][i] != -9.9 and \\\n",
    "       df['TPF'][i] != -9.9 and \\\n",
    "       df['POP'][i] != -9.999 and \\\n",
    "       df['NHN'][i] != -9.9 and \\\n",
    "       df['NNN'][i] != -9.99 and \\\n",
    "       df['CHEM'][i] != -999 and \\\n",
    "       df['TOC'][i] != -9.9 and \\\n",
    "       df['DOC'][i] != -9.9 and \\\n",
    "       df['POC'][i] != -9.9:\n",
    "        # Add \"good\" data row to df\n",
    "        new_df['Date'].append(df['Date'][i])\n",
    "        new_df['transect'].append(df['transect'][i])\n",
    "        new_df['water_temp'].append(df['water_temp'][i])\n",
    "        new_df['SAL'].append(df['SAL'][i])\n",
    "        new_df['TNW'].append(df['TNW'][i])\n",
    "        new_df['TNF'].append(df['TNF'][i])\n",
    "        new_df['TPW'].append(df['TPW'][i])\n",
    "        new_df['TPF'].append(df['TPF'][i])\n",
    "        new_df['POP'].append(df['POP'][i])\n",
    "        new_df['NHN'].append(df['NHN'][i])\n",
    "        new_df['NNN'].append(df['NNN'][i])\n",
    "        new_df['CHEM'].append(df['CHEM'][i])\n",
    "        new_df['TOC'].append(df['TOC'][i])\n",
    "        new_df['DOC'].append(df['DOC'][i])\n",
    "        new_df['POC'].append(df['POC'][i])\n",
    "        \n",
    "len(new_df['Date'])"
   ]
  },
  {
   "cell_type": "markdown",
   "metadata": {},
   "source": [
    "### Convert data values to `str` and output data to new text file `LTER.NIN.DWS.clean.csv` in row-major order."
   ]
  },
  {
   "cell_type": "code",
   "execution_count": null,
   "metadata": {},
   "outputs": [],
   "source": [
    "h = ','.join([_ for _ in header]) # Use str.join function to collapse header list into comma separated string\n",
    "print(h)"
   ]
  },
  {
   "cell_type": "code",
   "execution_count": null,
   "metadata": {},
   "outputs": [],
   "source": [
    "with open('./LTER.NIN.DWS.clean.csv', 'w') as f: # Open text file for writing\n",
    "    f.write(h + '\\n')\n",
    "    for i in range(len(new_df['Date'])):\n",
    "        date = new_df['Date'][i].strftime('%m/%d/%Y')\n",
    "        # Build string-based data row\n",
    "        row = date + ',' + \\\n",
    "              new_df['transect'][i] + ',' + \\\n",
    "              str(new_df['water_temp'][i]) + ',' + \\\n",
    "              str(new_df['SAL'][i]) + ',' + \\\n",
    "              str(new_df['TNW'][i]) + ',' + \\\n",
    "              str(new_df['TNF'][i]) + ',' + \\\n",
    "              str(new_df['TPW'][i]) + ',' + \\\n",
    "              str(new_df['TPF'][i]) + ',' + \\\n",
    "              str(new_df['POP'][i]) + ',' + \\\n",
    "              str(new_df['NHN'][i]) + ',' + \\\n",
    "              str(new_df['NNN'][i]) + ',' + \\\n",
    "              str(new_df['CHEM'][i]) + ',' + \\\n",
    "              str(new_df['TOC'][i]) + ',' + \\\n",
    "              str(new_df['DOC'][i]) + ',' + \\\n",
    "              str(new_df['POC'][i]) + '\\n'\n",
    "        f.write(row)"
   ]
  },
  {
   "cell_type": "code",
   "execution_count": null,
   "metadata": {},
   "outputs": [],
   "source": [
    "!head -n 10 ./LTER.NIN.DWS.clean.csv"
   ]
  }
 ],
 "metadata": {
  "kernelspec": {
   "display_name": "unm",
   "language": "python",
   "name": "unm"
  },
  "language_info": {
   "codemirror_mode": {
    "name": "ipython",
    "version": 3
   },
   "file_extension": ".py",
   "mimetype": "text/x-python",
   "name": "python",
   "nbconvert_exporter": "python",
   "pygments_lexer": "ipython3",
   "version": "3.6.5"
  }
 },
 "nbformat": 4,
 "nbformat_minor": 2
}
